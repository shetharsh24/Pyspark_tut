{
  "nbformat": 4,
  "nbformat_minor": 0,
  "metadata": {
    "colab": {
      "name": "Pyspark_tut.ipynb",
      "provenance": [],
      "authorship_tag": "ABX9TyM+mkFlBNqbE6AYq+Uuf+mf",
      "include_colab_link": true
    },
    "kernelspec": {
      "name": "python3",
      "display_name": "Python 3"
    },
    "language_info": {
      "name": "python"
    }
  },
  "cells": [
    {
      "cell_type": "markdown",
      "metadata": {
        "id": "view-in-github",
        "colab_type": "text"
      },
      "source": [
        "<a href=\"https://colab.research.google.com/github/shetharsh24/Pyspark_tut/blob/main/Pyspark_tut.ipynb\" target=\"_parent\"><img src=\"https://colab.research.google.com/assets/colab-badge.svg\" alt=\"Open In Colab\"/></a>"
      ]
    },
    {
      "cell_type": "code",
      "execution_count": 122,
      "metadata": {
        "id": "IZgsqT42UGXH"
      },
      "outputs": [],
      "source": [
        "#!pip install pyspark                                                                    # Installing pyspark"
      ]
    },
    {
      "cell_type": "code",
      "source": [
        "import pyspark\n",
        "from pyspark.sql import SparkSession               \n",
        "from pyspark import SparkFiles                                                                        # Importing necessary libs"
      ],
      "metadata": {
        "id": "E0GzsRVsUL82"
      },
      "execution_count": 123,
      "outputs": []
    },
    {
      "cell_type": "code",
      "source": [
        "spark = SparkSession.builder.appName('Tut').getOrCreate()                                             # Initializing SparkSession object"
      ],
      "metadata": {
        "id": "J8ExD7ESUt1L"
      },
      "execution_count": 124,
      "outputs": []
    },
    {
      "cell_type": "code",
      "source": [
        "spark"
      ],
      "metadata": {
        "colab": {
          "base_uri": "https://localhost:8080/",
          "height": 219
        },
        "id": "2rzWHc3MU7lq",
        "outputId": "6fc29a6f-22e0-4428-8dcd-8786f4a469c9"
      },
      "execution_count": 125,
      "outputs": [
        {
          "output_type": "execute_result",
          "data": {
            "text/plain": [
              "<pyspark.sql.session.SparkSession at 0x7f63a6714d10>"
            ],
            "text/html": [
              "\n",
              "            <div>\n",
              "                <p><b>SparkSession - in-memory</b></p>\n",
              "                \n",
              "        <div>\n",
              "            <p><b>SparkContext</b></p>\n",
              "\n",
              "            <p><a href=\"http://2a0ef505f832:4040\">Spark UI</a></p>\n",
              "\n",
              "            <dl>\n",
              "              <dt>Version</dt>\n",
              "                <dd><code>v3.2.1</code></dd>\n",
              "              <dt>Master</dt>\n",
              "                <dd><code>local[*]</code></dd>\n",
              "              <dt>AppName</dt>\n",
              "                <dd><code>Tut</code></dd>\n",
              "            </dl>\n",
              "        </div>\n",
              "        \n",
              "            </div>\n",
              "        "
            ]
          },
          "metadata": {},
          "execution_count": 125
        }
      ]
    },
    {
      "cell_type": "code",
      "source": [
        "url = 'https://raw.githubusercontent.com/datasciencedojo/datasets/master/titanic.csv'\n",
        "spark.sparkContext.addFile(url)                                                                       # Adding file to be downloaded"
      ],
      "metadata": {
        "id": "XnKnQO3bVJEn"
      },
      "execution_count": 126,
      "outputs": []
    },
    {
      "cell_type": "code",
      "source": [
        "df_spark = spark.read.csv(\"file://\"+SparkFiles.get(\"titanic.csv\"), header=True, inferSchema= True)    # Passing in absolute path"
      ],
      "metadata": {
        "id": "-4rSypIsVvrQ"
      },
      "execution_count": 127,
      "outputs": []
    },
    {
      "cell_type": "code",
      "source": [
        "df_spark.show(10)                                                                                     # Showing first 10 records"
      ],
      "metadata": {
        "colab": {
          "base_uri": "https://localhost:8080/"
        },
        "id": "M8e8PqOxWE2K",
        "outputId": "2f6090c4-1eb4-4d8b-e1d8-e6c860a39cc3"
      },
      "execution_count": 128,
      "outputs": [
        {
          "output_type": "stream",
          "name": "stdout",
          "text": [
            "+-----------+--------+------+--------------------+------+----+-----+-----+----------------+-------+-----+--------+\n",
            "|PassengerId|Survived|Pclass|                Name|   Sex| Age|SibSp|Parch|          Ticket|   Fare|Cabin|Embarked|\n",
            "+-----------+--------+------+--------------------+------+----+-----+-----+----------------+-------+-----+--------+\n",
            "|          1|       0|     3|Braund, Mr. Owen ...|  male|22.0|    1|    0|       A/5 21171|   7.25| null|       S|\n",
            "|          2|       1|     1|Cumings, Mrs. Joh...|female|38.0|    1|    0|        PC 17599|71.2833|  C85|       C|\n",
            "|          3|       1|     3|Heikkinen, Miss. ...|female|26.0|    0|    0|STON/O2. 3101282|  7.925| null|       S|\n",
            "|          4|       1|     1|Futrelle, Mrs. Ja...|female|35.0|    1|    0|          113803|   53.1| C123|       S|\n",
            "|          5|       0|     3|Allen, Mr. Willia...|  male|35.0|    0|    0|          373450|   8.05| null|       S|\n",
            "|          6|       0|     3|    Moran, Mr. James|  male|null|    0|    0|          330877| 8.4583| null|       Q|\n",
            "|          7|       0|     1|McCarthy, Mr. Tim...|  male|54.0|    0|    0|           17463|51.8625|  E46|       S|\n",
            "|          8|       0|     3|Palsson, Master. ...|  male| 2.0|    3|    1|          349909| 21.075| null|       S|\n",
            "|          9|       1|     3|Johnson, Mrs. Osc...|female|27.0|    0|    2|          347742|11.1333| null|       S|\n",
            "|         10|       1|     2|Nasser, Mrs. Nich...|female|14.0|    1|    0|          237736|30.0708| null|       C|\n",
            "+-----------+--------+------+--------------------+------+----+-----+-----+----------------+-------+-----+--------+\n",
            "only showing top 10 rows\n",
            "\n"
          ]
        }
      ]
    },
    {
      "cell_type": "code",
      "source": [
        "df_spark.printSchema()                                                                              # Printing the schema of table, almost similar to pandas df.info"
      ],
      "metadata": {
        "colab": {
          "base_uri": "https://localhost:8080/"
        },
        "id": "UtOiHwMsWKBL",
        "outputId": "1ae40a60-814c-4909-a39f-8a080e8084c5"
      },
      "execution_count": 129,
      "outputs": [
        {
          "output_type": "stream",
          "name": "stdout",
          "text": [
            "root\n",
            " |-- PassengerId: integer (nullable = true)\n",
            " |-- Survived: integer (nullable = true)\n",
            " |-- Pclass: integer (nullable = true)\n",
            " |-- Name: string (nullable = true)\n",
            " |-- Sex: string (nullable = true)\n",
            " |-- Age: double (nullable = true)\n",
            " |-- SibSp: integer (nullable = true)\n",
            " |-- Parch: integer (nullable = true)\n",
            " |-- Ticket: string (nullable = true)\n",
            " |-- Fare: double (nullable = true)\n",
            " |-- Cabin: string (nullable = true)\n",
            " |-- Embarked: string (nullable = true)\n",
            "\n"
          ]
        }
      ]
    },
    {
      "cell_type": "code",
      "source": [
        "type(df_spark)"
      ],
      "metadata": {
        "colab": {
          "base_uri": "https://localhost:8080/"
        },
        "id": "6zTFwq67aKoO",
        "outputId": "bbe15c0a-b98f-4981-d4f3-0096960bbff6"
      },
      "execution_count": 130,
      "outputs": [
        {
          "output_type": "execute_result",
          "data": {
            "text/plain": [
              "pyspark.sql.dataframe.DataFrame"
            ]
          },
          "metadata": {},
          "execution_count": 130
        }
      ]
    },
    {
      "cell_type": "code",
      "source": [
        "df_spark.columns"
      ],
      "metadata": {
        "colab": {
          "base_uri": "https://localhost:8080/"
        },
        "id": "HoFSda1AehSk",
        "outputId": "7bd68bdc-0968-4835-f937-3a0d56c41fcd"
      },
      "execution_count": 131,
      "outputs": [
        {
          "output_type": "execute_result",
          "data": {
            "text/plain": [
              "['PassengerId',\n",
              " 'Survived',\n",
              " 'Pclass',\n",
              " 'Name',\n",
              " 'Sex',\n",
              " 'Age',\n",
              " 'SibSp',\n",
              " 'Parch',\n",
              " 'Ticket',\n",
              " 'Fare',\n",
              " 'Cabin',\n",
              " 'Embarked']"
            ]
          },
          "metadata": {},
          "execution_count": 131
        }
      ]
    },
    {
      "cell_type": "code",
      "source": [
        "df_spark.select('PassengerId','Survived').show(10)"
      ],
      "metadata": {
        "colab": {
          "base_uri": "https://localhost:8080/"
        },
        "id": "uMi_QmpZerg9",
        "outputId": "e40309c5-eda5-448b-b7b2-e8ee56d941bc"
      },
      "execution_count": 132,
      "outputs": [
        {
          "output_type": "stream",
          "name": "stdout",
          "text": [
            "+-----------+--------+\n",
            "|PassengerId|Survived|\n",
            "+-----------+--------+\n",
            "|          1|       0|\n",
            "|          2|       1|\n",
            "|          3|       1|\n",
            "|          4|       1|\n",
            "|          5|       0|\n",
            "|          6|       0|\n",
            "|          7|       0|\n",
            "|          8|       0|\n",
            "|          9|       1|\n",
            "|         10|       1|\n",
            "+-----------+--------+\n",
            "only showing top 10 rows\n",
            "\n"
          ]
        }
      ]
    },
    {
      "cell_type": "code",
      "source": [
        "df_spark.count()"
      ],
      "metadata": {
        "colab": {
          "base_uri": "https://localhost:8080/"
        },
        "id": "UHJ87yq_e6df",
        "outputId": "605fa88c-5d82-44c4-d6aa-46015a43731f"
      },
      "execution_count": 133,
      "outputs": [
        {
          "output_type": "execute_result",
          "data": {
            "text/plain": [
              "891"
            ]
          },
          "metadata": {},
          "execution_count": 133
        }
      ]
    },
    {
      "cell_type": "code",
      "source": [
        "df1 = df_spark.sample(False,0.5,0)                                                                            # Slicing the data"
      ],
      "metadata": {
        "id": "-yn50bHDg-Nf"
      },
      "execution_count": 134,
      "outputs": []
    },
    {
      "cell_type": "code",
      "source": [
        "df1.count()"
      ],
      "metadata": {
        "colab": {
          "base_uri": "https://localhost:8080/"
        },
        "id": "9FCzIzuKhUeb",
        "outputId": "4d9d49a2-4db5-408e-8d1f-783e3336ecd7"
      },
      "execution_count": 135,
      "outputs": [
        {
          "output_type": "execute_result",
          "data": {
            "text/plain": [
              "448"
            ]
          },
          "metadata": {},
          "execution_count": 135
        }
      ]
    },
    {
      "cell_type": "code",
      "source": [
        "df2 = df_spark.subtract(df1)"
      ],
      "metadata": {
        "id": "gfupq88PhV0A"
      },
      "execution_count": 136,
      "outputs": []
    },
    {
      "cell_type": "code",
      "source": [
        "df2.count()"
      ],
      "metadata": {
        "colab": {
          "base_uri": "https://localhost:8080/"
        },
        "id": "zXEVgeIJhgRE",
        "outputId": "85f0ad78-77c7-4670-eb32-ab22db141219"
      },
      "execution_count": 137,
      "outputs": [
        {
          "output_type": "execute_result",
          "data": {
            "text/plain": [
              "443"
            ]
          },
          "metadata": {},
          "execution_count": 137
        }
      ]
    },
    {
      "cell_type": "code",
      "source": [
        "df_spark.dtypes"
      ],
      "metadata": {
        "colab": {
          "base_uri": "https://localhost:8080/"
        },
        "id": "MY3Ou7chhjm_",
        "outputId": "841bd424-ed74-4c37-cb10-ca2ef0a9d745"
      },
      "execution_count": 138,
      "outputs": [
        {
          "output_type": "execute_result",
          "data": {
            "text/plain": [
              "[('PassengerId', 'int'),\n",
              " ('Survived', 'int'),\n",
              " ('Pclass', 'int'),\n",
              " ('Name', 'string'),\n",
              " ('Sex', 'string'),\n",
              " ('Age', 'double'),\n",
              " ('SibSp', 'int'),\n",
              " ('Parch', 'int'),\n",
              " ('Ticket', 'string'),\n",
              " ('Fare', 'double'),\n",
              " ('Cabin', 'string'),\n",
              " ('Embarked', 'string')]"
            ]
          },
          "metadata": {},
          "execution_count": 138
        }
      ]
    },
    {
      "cell_type": "code",
      "source": [
        "df_spark.describe().show()"
      ],
      "metadata": {
        "colab": {
          "base_uri": "https://localhost:8080/"
        },
        "id": "7UgO8R6Shu-1",
        "outputId": "09fc8edb-ac06-466f-e22c-5546df4458a8"
      },
      "execution_count": 139,
      "outputs": [
        {
          "output_type": "stream",
          "name": "stdout",
          "text": [
            "+-------+-----------------+-------------------+------------------+--------------------+------+------------------+------------------+-------------------+------------------+-----------------+-----+--------+\n",
            "|summary|      PassengerId|           Survived|            Pclass|                Name|   Sex|               Age|             SibSp|              Parch|            Ticket|             Fare|Cabin|Embarked|\n",
            "+-------+-----------------+-------------------+------------------+--------------------+------+------------------+------------------+-------------------+------------------+-----------------+-----+--------+\n",
            "|  count|              891|                891|               891|                 891|   891|               714|               891|                891|               891|              891|  204|     889|\n",
            "|   mean|            446.0| 0.3838383838383838| 2.308641975308642|                null|  null| 29.69911764705882|0.5230078563411896|0.38159371492704824|260318.54916792738| 32.2042079685746| null|    null|\n",
            "| stddev|257.3538420152301|0.48659245426485753|0.8360712409770491|                null|  null|14.526497332334035|1.1027434322934315| 0.8060572211299488|471609.26868834975|49.69342859718089| null|    null|\n",
            "|    min|                1|                  0|                 1|\"Andersson, Mr. A...|female|              0.42|                 0|                  0|            110152|              0.0|  A10|       C|\n",
            "|    max|              891|                  1|                 3|van Melkebeke, Mr...|  male|              80.0|                 8|                  6|         WE/P 5735|         512.3292|    T|       S|\n",
            "+-------+-----------------+-------------------+------------------+--------------------+------+------------------+------------------+-------------------+------------------+-----------------+-----+--------+\n",
            "\n"
          ]
        }
      ]
    },
    {
      "cell_type": "code",
      "source": [
        "from pyspark.sql import functions\n",
        "df_spark.withColumn('New_col',functions.rand()).show(10)                                                              # Creating new col and populating with random values"
      ],
      "metadata": {
        "colab": {
          "base_uri": "https://localhost:8080/"
        },
        "id": "2bzAmJURhzwS",
        "outputId": "0cd42713-ff83-4692-a1be-712f43713782"
      },
      "execution_count": 140,
      "outputs": [
        {
          "output_type": "stream",
          "name": "stdout",
          "text": [
            "+-----------+--------+------+--------------------+------+----+-----+-----+----------------+-------+-----+--------+-------------------+\n",
            "|PassengerId|Survived|Pclass|                Name|   Sex| Age|SibSp|Parch|          Ticket|   Fare|Cabin|Embarked|            New_col|\n",
            "+-----------+--------+------+--------------------+------+----+-----+-----+----------------+-------+-----+--------+-------------------+\n",
            "|          1|       0|     3|Braund, Mr. Owen ...|  male|22.0|    1|    0|       A/5 21171|   7.25| null|       S| 0.7798861422890867|\n",
            "|          2|       1|     1|Cumings, Mrs. Joh...|female|38.0|    1|    0|        PC 17599|71.2833|  C85|       C| 0.4914513155048462|\n",
            "|          3|       1|     3|Heikkinen, Miss. ...|female|26.0|    0|    0|STON/O2. 3101282|  7.925| null|       S| 0.3793263405637204|\n",
            "|          4|       1|     1|Futrelle, Mrs. Ja...|female|35.0|    1|    0|          113803|   53.1| C123|       S|0.17755542223032605|\n",
            "|          5|       0|     3|Allen, Mr. Willia...|  male|35.0|    0|    0|          373450|   8.05| null|       S| 0.9523285887614459|\n",
            "|          6|       0|     3|    Moran, Mr. James|  male|null|    0|    0|          330877| 8.4583| null|       Q|0.14428386186128161|\n",
            "|          7|       0|     1|McCarthy, Mr. Tim...|  male|54.0|    0|    0|           17463|51.8625|  E46|       S| 0.6424404767629689|\n",
            "|          8|       0|     3|Palsson, Master. ...|  male| 2.0|    3|    1|          349909| 21.075| null|       S|0.14346716601452447|\n",
            "|          9|       1|     3|Johnson, Mrs. Osc...|female|27.0|    0|    2|          347742|11.1333| null|       S| 0.9262926399870107|\n",
            "|         10|       1|     2|Nasser, Mrs. Nich...|female|14.0|    1|    0|          237736|30.0708| null|       C| 0.4448664980198741|\n",
            "+-----------+--------+------+--------------------+------+----+-----+-----+----------------+-------+-----+--------+-------------------+\n",
            "only showing top 10 rows\n",
            "\n"
          ]
        }
      ]
    },
    {
      "cell_type": "code",
      "source": [
        "df_spark.drop('New_col').show(10)                                                                                   # Dropping new column"
      ],
      "metadata": {
        "colab": {
          "base_uri": "https://localhost:8080/"
        },
        "id": "nBlz0xhKjLyp",
        "outputId": "6dbf1ec3-4063-4dd0-f7fd-57df45beb18d"
      },
      "execution_count": 141,
      "outputs": [
        {
          "output_type": "stream",
          "name": "stdout",
          "text": [
            "+-----------+--------+------+--------------------+------+----+-----+-----+----------------+-------+-----+--------+\n",
            "|PassengerId|Survived|Pclass|                Name|   Sex| Age|SibSp|Parch|          Ticket|   Fare|Cabin|Embarked|\n",
            "+-----------+--------+------+--------------------+------+----+-----+-----+----------------+-------+-----+--------+\n",
            "|          1|       0|     3|Braund, Mr. Owen ...|  male|22.0|    1|    0|       A/5 21171|   7.25| null|       S|\n",
            "|          2|       1|     1|Cumings, Mrs. Joh...|female|38.0|    1|    0|        PC 17599|71.2833|  C85|       C|\n",
            "|          3|       1|     3|Heikkinen, Miss. ...|female|26.0|    0|    0|STON/O2. 3101282|  7.925| null|       S|\n",
            "|          4|       1|     1|Futrelle, Mrs. Ja...|female|35.0|    1|    0|          113803|   53.1| C123|       S|\n",
            "|          5|       0|     3|Allen, Mr. Willia...|  male|35.0|    0|    0|          373450|   8.05| null|       S|\n",
            "|          6|       0|     3|    Moran, Mr. James|  male|null|    0|    0|          330877| 8.4583| null|       Q|\n",
            "|          7|       0|     1|McCarthy, Mr. Tim...|  male|54.0|    0|    0|           17463|51.8625|  E46|       S|\n",
            "|          8|       0|     3|Palsson, Master. ...|  male| 2.0|    3|    1|          349909| 21.075| null|       S|\n",
            "|          9|       1|     3|Johnson, Mrs. Osc...|female|27.0|    0|    2|          347742|11.1333| null|       S|\n",
            "|         10|       1|     2|Nasser, Mrs. Nich...|female|14.0|    1|    0|          237736|30.0708| null|       C|\n",
            "+-----------+--------+------+--------------------+------+----+-----+-----+----------------+-------+-----+--------+\n",
            "only showing top 10 rows\n",
            "\n"
          ]
        }
      ]
    },
    {
      "cell_type": "code",
      "source": [
        "df_spark.show()"
      ],
      "metadata": {
        "colab": {
          "base_uri": "https://localhost:8080/"
        },
        "id": "UJgpqjKfke1h",
        "outputId": "6aff1a30-7c52-4c4b-98dc-881ce47283df"
      },
      "execution_count": 142,
      "outputs": [
        {
          "output_type": "stream",
          "name": "stdout",
          "text": [
            "+-----------+--------+------+--------------------+------+----+-----+-----+----------------+-------+-----+--------+\n",
            "|PassengerId|Survived|Pclass|                Name|   Sex| Age|SibSp|Parch|          Ticket|   Fare|Cabin|Embarked|\n",
            "+-----------+--------+------+--------------------+------+----+-----+-----+----------------+-------+-----+--------+\n",
            "|          1|       0|     3|Braund, Mr. Owen ...|  male|22.0|    1|    0|       A/5 21171|   7.25| null|       S|\n",
            "|          2|       1|     1|Cumings, Mrs. Joh...|female|38.0|    1|    0|        PC 17599|71.2833|  C85|       C|\n",
            "|          3|       1|     3|Heikkinen, Miss. ...|female|26.0|    0|    0|STON/O2. 3101282|  7.925| null|       S|\n",
            "|          4|       1|     1|Futrelle, Mrs. Ja...|female|35.0|    1|    0|          113803|   53.1| C123|       S|\n",
            "|          5|       0|     3|Allen, Mr. Willia...|  male|35.0|    0|    0|          373450|   8.05| null|       S|\n",
            "|          6|       0|     3|    Moran, Mr. James|  male|null|    0|    0|          330877| 8.4583| null|       Q|\n",
            "|          7|       0|     1|McCarthy, Mr. Tim...|  male|54.0|    0|    0|           17463|51.8625|  E46|       S|\n",
            "|          8|       0|     3|Palsson, Master. ...|  male| 2.0|    3|    1|          349909| 21.075| null|       S|\n",
            "|          9|       1|     3|Johnson, Mrs. Osc...|female|27.0|    0|    2|          347742|11.1333| null|       S|\n",
            "|         10|       1|     2|Nasser, Mrs. Nich...|female|14.0|    1|    0|          237736|30.0708| null|       C|\n",
            "|         11|       1|     3|Sandstrom, Miss. ...|female| 4.0|    1|    1|         PP 9549|   16.7|   G6|       S|\n",
            "|         12|       1|     1|Bonnell, Miss. El...|female|58.0|    0|    0|          113783|  26.55| C103|       S|\n",
            "|         13|       0|     3|Saundercock, Mr. ...|  male|20.0|    0|    0|       A/5. 2151|   8.05| null|       S|\n",
            "|         14|       0|     3|Andersson, Mr. An...|  male|39.0|    1|    5|          347082| 31.275| null|       S|\n",
            "|         15|       0|     3|Vestrom, Miss. Hu...|female|14.0|    0|    0|          350406| 7.8542| null|       S|\n",
            "|         16|       1|     2|Hewlett, Mrs. (Ma...|female|55.0|    0|    0|          248706|   16.0| null|       S|\n",
            "|         17|       0|     3|Rice, Master. Eugene|  male| 2.0|    4|    1|          382652| 29.125| null|       Q|\n",
            "|         18|       1|     2|Williams, Mr. Cha...|  male|null|    0|    0|          244373|   13.0| null|       S|\n",
            "|         19|       0|     3|Vander Planke, Mr...|female|31.0|    1|    0|          345763|   18.0| null|       S|\n",
            "|         20|       1|     3|Masselmani, Mrs. ...|female|null|    0|    0|            2649|  7.225| null|       C|\n",
            "+-----------+--------+------+--------------------+------+----+-----+-----+----------------+-------+-----+--------+\n",
            "only showing top 20 rows\n",
            "\n"
          ]
        }
      ]
    },
    {
      "cell_type": "code",
      "source": [
        "filter_expr = functions.exists(functions.array(*df_spark.columns), lambda x: x.isNull())                                      # Finding out null values from the dataset"
      ],
      "metadata": {
        "id": "K_9MzNYdkt6n"
      },
      "execution_count": 143,
      "outputs": []
    },
    {
      "cell_type": "code",
      "source": [
        "df_spark.filter(filter_expr).show()                                                                                            # Filtering the null values and printing them"
      ],
      "metadata": {
        "colab": {
          "base_uri": "https://localhost:8080/"
        },
        "id": "3qPm3Bislguh",
        "outputId": "bc295ceb-5413-4541-ed9c-4adb1b730660"
      },
      "execution_count": 144,
      "outputs": [
        {
          "output_type": "stream",
          "name": "stdout",
          "text": [
            "+-----------+--------+------+--------------------+------+----+-----+-----+----------------+-------+-----+--------+\n",
            "|PassengerId|Survived|Pclass|                Name|   Sex| Age|SibSp|Parch|          Ticket|   Fare|Cabin|Embarked|\n",
            "+-----------+--------+------+--------------------+------+----+-----+-----+----------------+-------+-----+--------+\n",
            "|          1|       0|     3|Braund, Mr. Owen ...|  male|22.0|    1|    0|       A/5 21171|   7.25| null|       S|\n",
            "|          3|       1|     3|Heikkinen, Miss. ...|female|26.0|    0|    0|STON/O2. 3101282|  7.925| null|       S|\n",
            "|          5|       0|     3|Allen, Mr. Willia...|  male|35.0|    0|    0|          373450|   8.05| null|       S|\n",
            "|          6|       0|     3|    Moran, Mr. James|  male|null|    0|    0|          330877| 8.4583| null|       Q|\n",
            "|          8|       0|     3|Palsson, Master. ...|  male| 2.0|    3|    1|          349909| 21.075| null|       S|\n",
            "|          9|       1|     3|Johnson, Mrs. Osc...|female|27.0|    0|    2|          347742|11.1333| null|       S|\n",
            "|         10|       1|     2|Nasser, Mrs. Nich...|female|14.0|    1|    0|          237736|30.0708| null|       C|\n",
            "|         13|       0|     3|Saundercock, Mr. ...|  male|20.0|    0|    0|       A/5. 2151|   8.05| null|       S|\n",
            "|         14|       0|     3|Andersson, Mr. An...|  male|39.0|    1|    5|          347082| 31.275| null|       S|\n",
            "|         15|       0|     3|Vestrom, Miss. Hu...|female|14.0|    0|    0|          350406| 7.8542| null|       S|\n",
            "|         16|       1|     2|Hewlett, Mrs. (Ma...|female|55.0|    0|    0|          248706|   16.0| null|       S|\n",
            "|         17|       0|     3|Rice, Master. Eugene|  male| 2.0|    4|    1|          382652| 29.125| null|       Q|\n",
            "|         18|       1|     2|Williams, Mr. Cha...|  male|null|    0|    0|          244373|   13.0| null|       S|\n",
            "|         19|       0|     3|Vander Planke, Mr...|female|31.0|    1|    0|          345763|   18.0| null|       S|\n",
            "|         20|       1|     3|Masselmani, Mrs. ...|female|null|    0|    0|            2649|  7.225| null|       C|\n",
            "|         21|       0|     2|Fynney, Mr. Joseph J|  male|35.0|    0|    0|          239865|   26.0| null|       S|\n",
            "|         23|       1|     3|\"McGowan, Miss. A...|female|15.0|    0|    0|          330923| 8.0292| null|       Q|\n",
            "|         25|       0|     3|Palsson, Miss. To...|female| 8.0|    3|    1|          349909| 21.075| null|       S|\n",
            "|         26|       1|     3|Asplund, Mrs. Car...|female|38.0|    1|    5|          347077|31.3875| null|       S|\n",
            "|         27|       0|     3|Emir, Mr. Farred ...|  male|null|    0|    0|            2631|  7.225| null|       C|\n",
            "+-----------+--------+------+--------------------+------+----+-----+-----+----------------+-------+-----+--------+\n",
            "only showing top 20 rows\n",
            "\n"
          ]
        }
      ]
    },
    {
      "cell_type": "code",
      "source": [
        "df_spark.na.drop(how='all').show()                                                                                    # Dropping the rows with all the null values"
      ],
      "metadata": {
        "colab": {
          "base_uri": "https://localhost:8080/"
        },
        "id": "hUisV18XmX63",
        "outputId": "24d6915d-5cd8-4785-8aeb-f7c093dcc906"
      },
      "execution_count": 145,
      "outputs": [
        {
          "output_type": "stream",
          "name": "stdout",
          "text": [
            "+-----------+--------+------+--------------------+------+----+-----+-----+----------------+-------+-----+--------+\n",
            "|PassengerId|Survived|Pclass|                Name|   Sex| Age|SibSp|Parch|          Ticket|   Fare|Cabin|Embarked|\n",
            "+-----------+--------+------+--------------------+------+----+-----+-----+----------------+-------+-----+--------+\n",
            "|          1|       0|     3|Braund, Mr. Owen ...|  male|22.0|    1|    0|       A/5 21171|   7.25| null|       S|\n",
            "|          2|       1|     1|Cumings, Mrs. Joh...|female|38.0|    1|    0|        PC 17599|71.2833|  C85|       C|\n",
            "|          3|       1|     3|Heikkinen, Miss. ...|female|26.0|    0|    0|STON/O2. 3101282|  7.925| null|       S|\n",
            "|          4|       1|     1|Futrelle, Mrs. Ja...|female|35.0|    1|    0|          113803|   53.1| C123|       S|\n",
            "|          5|       0|     3|Allen, Mr. Willia...|  male|35.0|    0|    0|          373450|   8.05| null|       S|\n",
            "|          6|       0|     3|    Moran, Mr. James|  male|null|    0|    0|          330877| 8.4583| null|       Q|\n",
            "|          7|       0|     1|McCarthy, Mr. Tim...|  male|54.0|    0|    0|           17463|51.8625|  E46|       S|\n",
            "|          8|       0|     3|Palsson, Master. ...|  male| 2.0|    3|    1|          349909| 21.075| null|       S|\n",
            "|          9|       1|     3|Johnson, Mrs. Osc...|female|27.0|    0|    2|          347742|11.1333| null|       S|\n",
            "|         10|       1|     2|Nasser, Mrs. Nich...|female|14.0|    1|    0|          237736|30.0708| null|       C|\n",
            "|         11|       1|     3|Sandstrom, Miss. ...|female| 4.0|    1|    1|         PP 9549|   16.7|   G6|       S|\n",
            "|         12|       1|     1|Bonnell, Miss. El...|female|58.0|    0|    0|          113783|  26.55| C103|       S|\n",
            "|         13|       0|     3|Saundercock, Mr. ...|  male|20.0|    0|    0|       A/5. 2151|   8.05| null|       S|\n",
            "|         14|       0|     3|Andersson, Mr. An...|  male|39.0|    1|    5|          347082| 31.275| null|       S|\n",
            "|         15|       0|     3|Vestrom, Miss. Hu...|female|14.0|    0|    0|          350406| 7.8542| null|       S|\n",
            "|         16|       1|     2|Hewlett, Mrs. (Ma...|female|55.0|    0|    0|          248706|   16.0| null|       S|\n",
            "|         17|       0|     3|Rice, Master. Eugene|  male| 2.0|    4|    1|          382652| 29.125| null|       Q|\n",
            "|         18|       1|     2|Williams, Mr. Cha...|  male|null|    0|    0|          244373|   13.0| null|       S|\n",
            "|         19|       0|     3|Vander Planke, Mr...|female|31.0|    1|    0|          345763|   18.0| null|       S|\n",
            "|         20|       1|     3|Masselmani, Mrs. ...|female|null|    0|    0|            2649|  7.225| null|       C|\n",
            "+-----------+--------+------+--------------------+------+----+-----+-----+----------------+-------+-----+--------+\n",
            "only showing top 20 rows\n",
            "\n"
          ]
        }
      ]
    },
    {
      "cell_type": "code",
      "source": [
        "df_spark.na.drop(how='all',thresh=2).show()                                                               # Using thresh feature to check whether atleast 2 non null values are present or not"
      ],
      "metadata": {
        "colab": {
          "base_uri": "https://localhost:8080/"
        },
        "id": "l4Xr3f4_nv1e",
        "outputId": "5eb1d5fa-47fe-46f6-dc30-3e56b3535767"
      },
      "execution_count": 146,
      "outputs": [
        {
          "output_type": "stream",
          "name": "stdout",
          "text": [
            "+-----------+--------+------+--------------------+------+----+-----+-----+----------------+-------+-----+--------+\n",
            "|PassengerId|Survived|Pclass|                Name|   Sex| Age|SibSp|Parch|          Ticket|   Fare|Cabin|Embarked|\n",
            "+-----------+--------+------+--------------------+------+----+-----+-----+----------------+-------+-----+--------+\n",
            "|          1|       0|     3|Braund, Mr. Owen ...|  male|22.0|    1|    0|       A/5 21171|   7.25| null|       S|\n",
            "|          2|       1|     1|Cumings, Mrs. Joh...|female|38.0|    1|    0|        PC 17599|71.2833|  C85|       C|\n",
            "|          3|       1|     3|Heikkinen, Miss. ...|female|26.0|    0|    0|STON/O2. 3101282|  7.925| null|       S|\n",
            "|          4|       1|     1|Futrelle, Mrs. Ja...|female|35.0|    1|    0|          113803|   53.1| C123|       S|\n",
            "|          5|       0|     3|Allen, Mr. Willia...|  male|35.0|    0|    0|          373450|   8.05| null|       S|\n",
            "|          6|       0|     3|    Moran, Mr. James|  male|null|    0|    0|          330877| 8.4583| null|       Q|\n",
            "|          7|       0|     1|McCarthy, Mr. Tim...|  male|54.0|    0|    0|           17463|51.8625|  E46|       S|\n",
            "|          8|       0|     3|Palsson, Master. ...|  male| 2.0|    3|    1|          349909| 21.075| null|       S|\n",
            "|          9|       1|     3|Johnson, Mrs. Osc...|female|27.0|    0|    2|          347742|11.1333| null|       S|\n",
            "|         10|       1|     2|Nasser, Mrs. Nich...|female|14.0|    1|    0|          237736|30.0708| null|       C|\n",
            "|         11|       1|     3|Sandstrom, Miss. ...|female| 4.0|    1|    1|         PP 9549|   16.7|   G6|       S|\n",
            "|         12|       1|     1|Bonnell, Miss. El...|female|58.0|    0|    0|          113783|  26.55| C103|       S|\n",
            "|         13|       0|     3|Saundercock, Mr. ...|  male|20.0|    0|    0|       A/5. 2151|   8.05| null|       S|\n",
            "|         14|       0|     3|Andersson, Mr. An...|  male|39.0|    1|    5|          347082| 31.275| null|       S|\n",
            "|         15|       0|     3|Vestrom, Miss. Hu...|female|14.0|    0|    0|          350406| 7.8542| null|       S|\n",
            "|         16|       1|     2|Hewlett, Mrs. (Ma...|female|55.0|    0|    0|          248706|   16.0| null|       S|\n",
            "|         17|       0|     3|Rice, Master. Eugene|  male| 2.0|    4|    1|          382652| 29.125| null|       Q|\n",
            "|         18|       1|     2|Williams, Mr. Cha...|  male|null|    0|    0|          244373|   13.0| null|       S|\n",
            "|         19|       0|     3|Vander Planke, Mr...|female|31.0|    1|    0|          345763|   18.0| null|       S|\n",
            "|         20|       1|     3|Masselmani, Mrs. ...|female|null|    0|    0|            2649|  7.225| null|       C|\n",
            "+-----------+--------+------+--------------------+------+----+-----+-----+----------------+-------+-----+--------+\n",
            "only showing top 20 rows\n",
            "\n"
          ]
        }
      ]
    },
    {
      "cell_type": "code",
      "source": [
        "df_spark.na.drop(how='all',subset=['Cabin']).show()                                                           # Using subset feature to drop the rows where Cabin column had null values"
      ],
      "metadata": {
        "colab": {
          "base_uri": "https://localhost:8080/"
        },
        "id": "gGu8NbTdoKAN",
        "outputId": "03400f15-e1c8-407d-d2fc-32cee9fa9e62"
      },
      "execution_count": 147,
      "outputs": [
        {
          "output_type": "stream",
          "name": "stdout",
          "text": [
            "+-----------+--------+------+--------------------+------+----+-----+-----+-----------+--------+-----------+--------+\n",
            "|PassengerId|Survived|Pclass|                Name|   Sex| Age|SibSp|Parch|     Ticket|    Fare|      Cabin|Embarked|\n",
            "+-----------+--------+------+--------------------+------+----+-----+-----+-----------+--------+-----------+--------+\n",
            "|          2|       1|     1|Cumings, Mrs. Joh...|female|38.0|    1|    0|   PC 17599| 71.2833|        C85|       C|\n",
            "|          4|       1|     1|Futrelle, Mrs. Ja...|female|35.0|    1|    0|     113803|    53.1|       C123|       S|\n",
            "|          7|       0|     1|McCarthy, Mr. Tim...|  male|54.0|    0|    0|      17463| 51.8625|        E46|       S|\n",
            "|         11|       1|     3|Sandstrom, Miss. ...|female| 4.0|    1|    1|    PP 9549|    16.7|         G6|       S|\n",
            "|         12|       1|     1|Bonnell, Miss. El...|female|58.0|    0|    0|     113783|   26.55|       C103|       S|\n",
            "|         22|       1|     2|Beesley, Mr. Lawr...|  male|34.0|    0|    0|     248698|    13.0|        D56|       S|\n",
            "|         24|       1|     1|Sloper, Mr. Willi...|  male|28.0|    0|    0|     113788|    35.5|         A6|       S|\n",
            "|         28|       0|     1|Fortune, Mr. Char...|  male|19.0|    3|    2|      19950|   263.0|C23 C25 C27|       S|\n",
            "|         32|       1|     1|Spencer, Mrs. Wil...|female|null|    1|    0|   PC 17569|146.5208|        B78|       C|\n",
            "|         53|       1|     1|Harper, Mrs. Henr...|female|49.0|    1|    0|   PC 17572| 76.7292|        D33|       C|\n",
            "|         55|       0|     1|Ostby, Mr. Engelh...|  male|65.0|    0|    1|     113509| 61.9792|        B30|       C|\n",
            "|         56|       1|     1|   Woolner, Mr. Hugh|  male|null|    0|    0|      19947|    35.5|        C52|       S|\n",
            "|         62|       1|     1| Icard, Miss. Amelie|female|38.0|    0|    0|     113572|    80.0|        B28|    null|\n",
            "|         63|       0|     1|Harris, Mr. Henry...|  male|45.0|    1|    0|      36973|  83.475|        C83|       S|\n",
            "|         67|       1|     2|Nye, Mrs. (Elizab...|female|29.0|    0|    0| C.A. 29395|    10.5|        F33|       S|\n",
            "|         76|       0|     3|Moen, Mr. Sigurd ...|  male|25.0|    0|    0|     348123|    7.65|      F G73|       S|\n",
            "|         89|       1|     1|Fortune, Miss. Ma...|female|23.0|    3|    2|      19950|   263.0|C23 C25 C27|       S|\n",
            "|         93|       0|     1|Chaffee, Mr. Herb...|  male|46.0|    1|    0|W.E.P. 5734|  61.175|        E31|       S|\n",
            "|         97|       0|     1|Goldschmidt, Mr. ...|  male|71.0|    0|    0|   PC 17754| 34.6542|         A5|       C|\n",
            "|         98|       1|     1|Greenfield, Mr. W...|  male|23.0|    0|    1|   PC 17759| 63.3583|    D10 D12|       C|\n",
            "+-----------+--------+------+--------------------+------+----+-----+-----+-----------+--------+-----------+--------+\n",
            "only showing top 20 rows\n",
            "\n"
          ]
        }
      ]
    },
    {
      "cell_type": "code",
      "source": [
        "df_spark.na.fill('Missing Values','Cabin').show()                                                             # Filling the cabin values with the 'Missing Values'"
      ],
      "metadata": {
        "colab": {
          "base_uri": "https://localhost:8080/"
        },
        "id": "CFKwDiLpo2nl",
        "outputId": "e8ae7325-0a61-4821-e001-2342f04fe58d"
      },
      "execution_count": 148,
      "outputs": [
        {
          "output_type": "stream",
          "name": "stdout",
          "text": [
            "+-----------+--------+------+--------------------+------+----+-----+-----+----------------+-------+--------------+--------+\n",
            "|PassengerId|Survived|Pclass|                Name|   Sex| Age|SibSp|Parch|          Ticket|   Fare|         Cabin|Embarked|\n",
            "+-----------+--------+------+--------------------+------+----+-----+-----+----------------+-------+--------------+--------+\n",
            "|          1|       0|     3|Braund, Mr. Owen ...|  male|22.0|    1|    0|       A/5 21171|   7.25|Missing Values|       S|\n",
            "|          2|       1|     1|Cumings, Mrs. Joh...|female|38.0|    1|    0|        PC 17599|71.2833|           C85|       C|\n",
            "|          3|       1|     3|Heikkinen, Miss. ...|female|26.0|    0|    0|STON/O2. 3101282|  7.925|Missing Values|       S|\n",
            "|          4|       1|     1|Futrelle, Mrs. Ja...|female|35.0|    1|    0|          113803|   53.1|          C123|       S|\n",
            "|          5|       0|     3|Allen, Mr. Willia...|  male|35.0|    0|    0|          373450|   8.05|Missing Values|       S|\n",
            "|          6|       0|     3|    Moran, Mr. James|  male|null|    0|    0|          330877| 8.4583|Missing Values|       Q|\n",
            "|          7|       0|     1|McCarthy, Mr. Tim...|  male|54.0|    0|    0|           17463|51.8625|           E46|       S|\n",
            "|          8|       0|     3|Palsson, Master. ...|  male| 2.0|    3|    1|          349909| 21.075|Missing Values|       S|\n",
            "|          9|       1|     3|Johnson, Mrs. Osc...|female|27.0|    0|    2|          347742|11.1333|Missing Values|       S|\n",
            "|         10|       1|     2|Nasser, Mrs. Nich...|female|14.0|    1|    0|          237736|30.0708|Missing Values|       C|\n",
            "|         11|       1|     3|Sandstrom, Miss. ...|female| 4.0|    1|    1|         PP 9549|   16.7|            G6|       S|\n",
            "|         12|       1|     1|Bonnell, Miss. El...|female|58.0|    0|    0|          113783|  26.55|          C103|       S|\n",
            "|         13|       0|     3|Saundercock, Mr. ...|  male|20.0|    0|    0|       A/5. 2151|   8.05|Missing Values|       S|\n",
            "|         14|       0|     3|Andersson, Mr. An...|  male|39.0|    1|    5|          347082| 31.275|Missing Values|       S|\n",
            "|         15|       0|     3|Vestrom, Miss. Hu...|female|14.0|    0|    0|          350406| 7.8542|Missing Values|       S|\n",
            "|         16|       1|     2|Hewlett, Mrs. (Ma...|female|55.0|    0|    0|          248706|   16.0|Missing Values|       S|\n",
            "|         17|       0|     3|Rice, Master. Eugene|  male| 2.0|    4|    1|          382652| 29.125|Missing Values|       Q|\n",
            "|         18|       1|     2|Williams, Mr. Cha...|  male|null|    0|    0|          244373|   13.0|Missing Values|       S|\n",
            "|         19|       0|     3|Vander Planke, Mr...|female|31.0|    1|    0|          345763|   18.0|Missing Values|       S|\n",
            "|         20|       1|     3|Masselmani, Mrs. ...|female|null|    0|    0|            2649|  7.225|Missing Values|       C|\n",
            "+-----------+--------+------+--------------------+------+----+-----+-----+----------------+-------+--------------+--------+\n",
            "only showing top 20 rows\n",
            "\n"
          ]
        }
      ]
    },
    {
      "cell_type": "code",
      "source": [
        "df_spark.withColumn('New_col',functions.rand()).show(10) "
      ],
      "metadata": {
        "colab": {
          "base_uri": "https://localhost:8080/"
        },
        "id": "LCm4cxs7swcM",
        "outputId": "0d5cc4f3-6774-41a4-d4d2-62433ca3cbd8"
      },
      "execution_count": 149,
      "outputs": [
        {
          "output_type": "stream",
          "name": "stdout",
          "text": [
            "+-----------+--------+------+--------------------+------+----+-----+-----+----------------+-------+-----+--------+-------------------+\n",
            "|PassengerId|Survived|Pclass|                Name|   Sex| Age|SibSp|Parch|          Ticket|   Fare|Cabin|Embarked|            New_col|\n",
            "+-----------+--------+------+--------------------+------+----+-----+-----+----------------+-------+-----+--------+-------------------+\n",
            "|          1|       0|     3|Braund, Mr. Owen ...|  male|22.0|    1|    0|       A/5 21171|   7.25| null|       S| 0.5867331638269366|\n",
            "|          2|       1|     1|Cumings, Mrs. Joh...|female|38.0|    1|    0|        PC 17599|71.2833|  C85|       C| 0.6711118526518965|\n",
            "|          3|       1|     3|Heikkinen, Miss. ...|female|26.0|    0|    0|STON/O2. 3101282|  7.925| null|       S|0.22728250505454728|\n",
            "|          4|       1|     1|Futrelle, Mrs. Ja...|female|35.0|    1|    0|          113803|   53.1| C123|       S|0.18361048282818027|\n",
            "|          5|       0|     3|Allen, Mr. Willia...|  male|35.0|    0|    0|          373450|   8.05| null|       S|  0.907029935142236|\n",
            "|          6|       0|     3|    Moran, Mr. James|  male|null|    0|    0|          330877| 8.4583| null|       Q| 0.4529670053860736|\n",
            "|          7|       0|     1|McCarthy, Mr. Tim...|  male|54.0|    0|    0|           17463|51.8625|  E46|       S|0.22993490374685566|\n",
            "|          8|       0|     3|Palsson, Master. ...|  male| 2.0|    3|    1|          349909| 21.075| null|       S| 0.8032274859838926|\n",
            "|          9|       1|     3|Johnson, Mrs. Osc...|female|27.0|    0|    2|          347742|11.1333| null|       S| 0.9513967595899118|\n",
            "|         10|       1|     2|Nasser, Mrs. Nich...|female|14.0|    1|    0|          237736|30.0708| null|       C| 0.2661186088489723|\n",
            "+-----------+--------+------+--------------------+------+----+-----+-----+----------------+-------+-----+--------+-------------------+\n",
            "only showing top 10 rows\n",
            "\n"
          ]
        }
      ]
    },
    {
      "cell_type": "code",
      "source": [
        "from pyspark.ml.feature import Imputer\n",
        "\n",
        "imputer = Imputer(\n",
        "    inputCols=['Age'],\n",
        "    outputCols=[\"{}_imputed\".format(c) for c in ['Age']]).setStrategy('median')                             # Replacing the null values with the median value"
      ],
      "metadata": {
        "id": "f09VGzepp2lE"
      },
      "execution_count": 150,
      "outputs": []
    },
    {
      "cell_type": "code",
      "source": [
        "imputer.fit(df_spark).transform(df_spark).show()                                                            # Printing the imputed "
      ],
      "metadata": {
        "colab": {
          "base_uri": "https://localhost:8080/"
        },
        "id": "hAzh0Tiwr9bh",
        "outputId": "6eb10db7-4f0c-475a-c663-f61b863257a5"
      },
      "execution_count": 151,
      "outputs": [
        {
          "output_type": "stream",
          "name": "stdout",
          "text": [
            "+-----------+--------+------+--------------------+------+----+-----+-----+----------------+-------+-----+--------+-----------+\n",
            "|PassengerId|Survived|Pclass|                Name|   Sex| Age|SibSp|Parch|          Ticket|   Fare|Cabin|Embarked|Age_imputed|\n",
            "+-----------+--------+------+--------------------+------+----+-----+-----+----------------+-------+-----+--------+-----------+\n",
            "|          1|       0|     3|Braund, Mr. Owen ...|  male|22.0|    1|    0|       A/5 21171|   7.25| null|       S|       22.0|\n",
            "|          2|       1|     1|Cumings, Mrs. Joh...|female|38.0|    1|    0|        PC 17599|71.2833|  C85|       C|       38.0|\n",
            "|          3|       1|     3|Heikkinen, Miss. ...|female|26.0|    0|    0|STON/O2. 3101282|  7.925| null|       S|       26.0|\n",
            "|          4|       1|     1|Futrelle, Mrs. Ja...|female|35.0|    1|    0|          113803|   53.1| C123|       S|       35.0|\n",
            "|          5|       0|     3|Allen, Mr. Willia...|  male|35.0|    0|    0|          373450|   8.05| null|       S|       35.0|\n",
            "|          6|       0|     3|    Moran, Mr. James|  male|null|    0|    0|          330877| 8.4583| null|       Q|       28.0|\n",
            "|          7|       0|     1|McCarthy, Mr. Tim...|  male|54.0|    0|    0|           17463|51.8625|  E46|       S|       54.0|\n",
            "|          8|       0|     3|Palsson, Master. ...|  male| 2.0|    3|    1|          349909| 21.075| null|       S|        2.0|\n",
            "|          9|       1|     3|Johnson, Mrs. Osc...|female|27.0|    0|    2|          347742|11.1333| null|       S|       27.0|\n",
            "|         10|       1|     2|Nasser, Mrs. Nich...|female|14.0|    1|    0|          237736|30.0708| null|       C|       14.0|\n",
            "|         11|       1|     3|Sandstrom, Miss. ...|female| 4.0|    1|    1|         PP 9549|   16.7|   G6|       S|        4.0|\n",
            "|         12|       1|     1|Bonnell, Miss. El...|female|58.0|    0|    0|          113783|  26.55| C103|       S|       58.0|\n",
            "|         13|       0|     3|Saundercock, Mr. ...|  male|20.0|    0|    0|       A/5. 2151|   8.05| null|       S|       20.0|\n",
            "|         14|       0|     3|Andersson, Mr. An...|  male|39.0|    1|    5|          347082| 31.275| null|       S|       39.0|\n",
            "|         15|       0|     3|Vestrom, Miss. Hu...|female|14.0|    0|    0|          350406| 7.8542| null|       S|       14.0|\n",
            "|         16|       1|     2|Hewlett, Mrs. (Ma...|female|55.0|    0|    0|          248706|   16.0| null|       S|       55.0|\n",
            "|         17|       0|     3|Rice, Master. Eugene|  male| 2.0|    4|    1|          382652| 29.125| null|       Q|        2.0|\n",
            "|         18|       1|     2|Williams, Mr. Cha...|  male|null|    0|    0|          244373|   13.0| null|       S|       28.0|\n",
            "|         19|       0|     3|Vander Planke, Mr...|female|31.0|    1|    0|          345763|   18.0| null|       S|       31.0|\n",
            "|         20|       1|     3|Masselmani, Mrs. ...|female|null|    0|    0|            2649|  7.225| null|       C|       28.0|\n",
            "+-----------+--------+------+--------------------+------+----+-----+-----+----------------+-------+-----+--------+-----------+\n",
            "only showing top 20 rows\n",
            "\n"
          ]
        }
      ]
    },
    {
      "cell_type": "code",
      "source": [
        "df_spark.filter('Age<25').show()                                                              # Using filter function to show the age < 25"
      ],
      "metadata": {
        "colab": {
          "base_uri": "https://localhost:8080/"
        },
        "id": "YF0qDtPktM8G",
        "outputId": "e5b63311-a156-45b9-b223-67eda06e4437"
      },
      "execution_count": 152,
      "outputs": [
        {
          "output_type": "stream",
          "name": "stdout",
          "text": [
            "+-----------+--------+------+--------------------+------+----+-----+-----+-------------+-------+-----------+--------+\n",
            "|PassengerId|Survived|Pclass|                Name|   Sex| Age|SibSp|Parch|       Ticket|   Fare|      Cabin|Embarked|\n",
            "+-----------+--------+------+--------------------+------+----+-----+-----+-------------+-------+-----------+--------+\n",
            "|          1|       0|     3|Braund, Mr. Owen ...|  male|22.0|    1|    0|    A/5 21171|   7.25|       null|       S|\n",
            "|          8|       0|     3|Palsson, Master. ...|  male| 2.0|    3|    1|       349909| 21.075|       null|       S|\n",
            "|         10|       1|     2|Nasser, Mrs. Nich...|female|14.0|    1|    0|       237736|30.0708|       null|       C|\n",
            "|         11|       1|     3|Sandstrom, Miss. ...|female| 4.0|    1|    1|      PP 9549|   16.7|         G6|       S|\n",
            "|         13|       0|     3|Saundercock, Mr. ...|  male|20.0|    0|    0|    A/5. 2151|   8.05|       null|       S|\n",
            "|         15|       0|     3|Vestrom, Miss. Hu...|female|14.0|    0|    0|       350406| 7.8542|       null|       S|\n",
            "|         17|       0|     3|Rice, Master. Eugene|  male| 2.0|    4|    1|       382652| 29.125|       null|       Q|\n",
            "|         23|       1|     3|\"McGowan, Miss. A...|female|15.0|    0|    0|       330923| 8.0292|       null|       Q|\n",
            "|         25|       0|     3|Palsson, Miss. To...|female| 8.0|    3|    1|       349909| 21.075|       null|       S|\n",
            "|         28|       0|     1|Fortune, Mr. Char...|  male|19.0|    3|    2|        19950|  263.0|C23 C25 C27|       S|\n",
            "|         38|       0|     3|Cann, Mr. Ernest ...|  male|21.0|    0|    0|   A./5. 2152|   8.05|       null|       S|\n",
            "|         39|       0|     3|Vander Planke, Mi...|female|18.0|    2|    0|       345764|   18.0|       null|       S|\n",
            "|         40|       1|     3|Nicola-Yarred, Mi...|female|14.0|    1|    0|         2651|11.2417|       null|       C|\n",
            "|         44|       1|     2|Laroche, Miss. Si...|female| 3.0|    1|    2|SC/Paris 2123|41.5792|       null|       C|\n",
            "|         45|       1|     3|Devaney, Miss. Ma...|female|19.0|    0|    0|       330958| 7.8792|       null|       Q|\n",
            "|         50|       0|     3|Arnold-Franchi, M...|female|18.0|    1|    0|       349237|   17.8|       null|       S|\n",
            "|         51|       0|     3|Panula, Master. J...|  male| 7.0|    4|    1|      3101295|39.6875|       null|       S|\n",
            "|         52|       0|     3|Nosworthy, Mr. Ri...|  male|21.0|    0|    0|   A/4. 39886|    7.8|       null|       S|\n",
            "|         57|       1|     2|   Rugg, Miss. Emily|female|21.0|    0|    0|   C.A. 31026|   10.5|       null|       S|\n",
            "|         59|       1|     2|West, Miss. Const...|female| 5.0|    1|    2|   C.A. 34651|  27.75|       null|       S|\n",
            "+-----------+--------+------+--------------------+------+----+-----+-----+-------------+-------+-----------+--------+\n",
            "only showing top 20 rows\n",
            "\n"
          ]
        }
      ]
    },
    {
      "cell_type": "code",
      "source": [
        "df_spark.filter(\"Age<25\").select(['Name','Age']).show()                                         # Filtering specific columns "
      ],
      "metadata": {
        "colab": {
          "base_uri": "https://localhost:8080/"
        },
        "id": "bsiKgXouwdpf",
        "outputId": "3ae58893-b54f-40d3-c73f-d92b818730b0"
      },
      "execution_count": 153,
      "outputs": [
        {
          "output_type": "stream",
          "name": "stdout",
          "text": [
            "+--------------------+----+\n",
            "|                Name| Age|\n",
            "+--------------------+----+\n",
            "|Braund, Mr. Owen ...|22.0|\n",
            "|Palsson, Master. ...| 2.0|\n",
            "|Nasser, Mrs. Nich...|14.0|\n",
            "|Sandstrom, Miss. ...| 4.0|\n",
            "|Saundercock, Mr. ...|20.0|\n",
            "|Vestrom, Miss. Hu...|14.0|\n",
            "|Rice, Master. Eugene| 2.0|\n",
            "|\"McGowan, Miss. A...|15.0|\n",
            "|Palsson, Miss. To...| 8.0|\n",
            "|Fortune, Mr. Char...|19.0|\n",
            "|Cann, Mr. Ernest ...|21.0|\n",
            "|Vander Planke, Mi...|18.0|\n",
            "|Nicola-Yarred, Mi...|14.0|\n",
            "|Laroche, Miss. Si...| 3.0|\n",
            "|Devaney, Miss. Ma...|19.0|\n",
            "|Arnold-Franchi, M...|18.0|\n",
            "|Panula, Master. J...| 7.0|\n",
            "|Nosworthy, Mr. Ri...|21.0|\n",
            "|   Rugg, Miss. Emily|21.0|\n",
            "|West, Miss. Const...| 5.0|\n",
            "+--------------------+----+\n",
            "only showing top 20 rows\n",
            "\n"
          ]
        }
      ]
    },
    {
      "cell_type": "code",
      "source": [
        "df_spark.filter((df_spark['Age'] < 25) & (df_spark['Sex']=='male') ).show()                     # Filtering on multiple rows"
      ],
      "metadata": {
        "colab": {
          "base_uri": "https://localhost:8080/"
        },
        "id": "yBrxul-aw2a2",
        "outputId": "30f682a2-8b4f-418e-ac87-479ea1e08d02"
      },
      "execution_count": 154,
      "outputs": [
        {
          "output_type": "stream",
          "name": "stdout",
          "text": [
            "+-----------+--------+------+--------------------+----+----+-----+-----+------------+-------+-----------+--------+\n",
            "|PassengerId|Survived|Pclass|                Name| Sex| Age|SibSp|Parch|      Ticket|   Fare|      Cabin|Embarked|\n",
            "+-----------+--------+------+--------------------+----+----+-----+-----+------------+-------+-----------+--------+\n",
            "|          1|       0|     3|Braund, Mr. Owen ...|male|22.0|    1|    0|   A/5 21171|   7.25|       null|       S|\n",
            "|          8|       0|     3|Palsson, Master. ...|male| 2.0|    3|    1|      349909| 21.075|       null|       S|\n",
            "|         13|       0|     3|Saundercock, Mr. ...|male|20.0|    0|    0|   A/5. 2151|   8.05|       null|       S|\n",
            "|         17|       0|     3|Rice, Master. Eugene|male| 2.0|    4|    1|      382652| 29.125|       null|       Q|\n",
            "|         28|       0|     1|Fortune, Mr. Char...|male|19.0|    3|    2|       19950|  263.0|C23 C25 C27|       S|\n",
            "|         38|       0|     3|Cann, Mr. Ernest ...|male|21.0|    0|    0|  A./5. 2152|   8.05|       null|       S|\n",
            "|         51|       0|     3|Panula, Master. J...|male| 7.0|    4|    1|     3101295|39.6875|       null|       S|\n",
            "|         52|       0|     3|Nosworthy, Mr. Ri...|male|21.0|    0|    0|  A/4. 39886|    7.8|       null|       S|\n",
            "|         60|       0|     3|Goodwin, Master. ...|male|11.0|    5|    2|     CA 2144|   46.9|       null|       S|\n",
            "|         61|       0|     3|Sirayanian, Mr. O...|male|22.0|    0|    0|        2669| 7.2292|       null|       C|\n",
            "|         64|       0|     3|Skoog, Master. Ha...|male| 4.0|    3|    2|      347088|   27.9|       null|       S|\n",
            "|         68|       0|     3|Crease, Mr. Ernes...|male|19.0|    0|    0|   S.P. 3464| 8.1583|       null|       S|\n",
            "|         73|       0|     2|Hood, Mr. Ambrose Jr|male|21.0|    0|    0|S.O.C. 14879|   73.5|       null|       S|\n",
            "|         79|       1|     2|Caldwell, Master....|male|0.83|    0|    2|      248738|   29.0|       null|       S|\n",
            "|         81|       0|     3|Waelens, Mr. Achille|male|22.0|    0|    0|      345767|    9.0|       null|       S|\n",
            "|         87|       0|     3|Ford, Mr. William...|male|16.0|    1|    3|  W./C. 6608| 34.375|       null|       S|\n",
            "|         90|       0|     3|Celotti, Mr. Fran...|male|24.0|    0|    0|      343275|   8.05|       null|       S|\n",
            "|         92|       0|     3|Andreasson, Mr. P...|male|20.0|    0|    0|      347466| 7.8542|       null|       S|\n",
            "|         98|       1|     1|Greenfield, Mr. W...|male|23.0|    0|    1|    PC 17759|63.3583|    D10 D12|       C|\n",
            "|        103|       0|     1|White, Mr. Richar...|male|21.0|    0|    1|       35281|77.2875|        D26|       S|\n",
            "+-----------+--------+------+--------------------+----+----+-----+-----+------------+-------+-----------+--------+\n",
            "only showing top 20 rows\n",
            "\n"
          ]
        }
      ]
    },
    {
      "cell_type": "code",
      "source": [
        "df_spark.filter(~(df_spark['Age'] < 25)).show()                                             # Performing inverse operation with filter"
      ],
      "metadata": {
        "colab": {
          "base_uri": "https://localhost:8080/"
        },
        "id": "VkarMaIWxXl2",
        "outputId": "f66471c5-688c-499b-8005-d0a2eda6524a"
      },
      "execution_count": 155,
      "outputs": [
        {
          "output_type": "stream",
          "name": "stdout",
          "text": [
            "+-----------+--------+------+--------------------+------+----+-----+-----+----------------+-------+-----+--------+\n",
            "|PassengerId|Survived|Pclass|                Name|   Sex| Age|SibSp|Parch|          Ticket|   Fare|Cabin|Embarked|\n",
            "+-----------+--------+------+--------------------+------+----+-----+-----+----------------+-------+-----+--------+\n",
            "|          2|       1|     1|Cumings, Mrs. Joh...|female|38.0|    1|    0|        PC 17599|71.2833|  C85|       C|\n",
            "|          3|       1|     3|Heikkinen, Miss. ...|female|26.0|    0|    0|STON/O2. 3101282|  7.925| null|       S|\n",
            "|          4|       1|     1|Futrelle, Mrs. Ja...|female|35.0|    1|    0|          113803|   53.1| C123|       S|\n",
            "|          5|       0|     3|Allen, Mr. Willia...|  male|35.0|    0|    0|          373450|   8.05| null|       S|\n",
            "|          7|       0|     1|McCarthy, Mr. Tim...|  male|54.0|    0|    0|           17463|51.8625|  E46|       S|\n",
            "|          9|       1|     3|Johnson, Mrs. Osc...|female|27.0|    0|    2|          347742|11.1333| null|       S|\n",
            "|         12|       1|     1|Bonnell, Miss. El...|female|58.0|    0|    0|          113783|  26.55| C103|       S|\n",
            "|         14|       0|     3|Andersson, Mr. An...|  male|39.0|    1|    5|          347082| 31.275| null|       S|\n",
            "|         16|       1|     2|Hewlett, Mrs. (Ma...|female|55.0|    0|    0|          248706|   16.0| null|       S|\n",
            "|         19|       0|     3|Vander Planke, Mr...|female|31.0|    1|    0|          345763|   18.0| null|       S|\n",
            "|         21|       0|     2|Fynney, Mr. Joseph J|  male|35.0|    0|    0|          239865|   26.0| null|       S|\n",
            "|         22|       1|     2|Beesley, Mr. Lawr...|  male|34.0|    0|    0|          248698|   13.0|  D56|       S|\n",
            "|         24|       1|     1|Sloper, Mr. Willi...|  male|28.0|    0|    0|          113788|   35.5|   A6|       S|\n",
            "|         26|       1|     3|Asplund, Mrs. Car...|female|38.0|    1|    5|          347077|31.3875| null|       S|\n",
            "|         31|       0|     1|Uruchurtu, Don. M...|  male|40.0|    0|    0|        PC 17601|27.7208| null|       C|\n",
            "|         34|       0|     2|Wheadon, Mr. Edwa...|  male|66.0|    0|    0|      C.A. 24579|   10.5| null|       S|\n",
            "|         35|       0|     1|Meyer, Mr. Edgar ...|  male|28.0|    1|    0|        PC 17604|82.1708| null|       C|\n",
            "|         36|       0|     1|Holverson, Mr. Al...|  male|42.0|    1|    0|          113789|   52.0| null|       S|\n",
            "|         41|       0|     3|Ahlin, Mrs. Johan...|female|40.0|    1|    0|            7546|  9.475| null|       S|\n",
            "|         42|       0|     2|Turpin, Mrs. Will...|female|27.0|    1|    0|           11668|   21.0| null|       S|\n",
            "+-----------+--------+------+--------------------+------+----+-----+-----+----------------+-------+-----+--------+\n",
            "only showing top 20 rows\n",
            "\n"
          ]
        }
      ]
    },
    {
      "cell_type": "code",
      "source": [
        "df_spark.groupby(['Sex','Survived']).count().show()                                                      # Using groupby and agg functions"
      ],
      "metadata": {
        "colab": {
          "base_uri": "https://localhost:8080/"
        },
        "id": "QMQFdQwSyQnr",
        "outputId": "06a57d36-5303-42b9-e01d-6fc9771feaa1"
      },
      "execution_count": 156,
      "outputs": [
        {
          "output_type": "stream",
          "name": "stdout",
          "text": [
            "+------+--------+-----+\n",
            "|   Sex|Survived|count|\n",
            "+------+--------+-----+\n",
            "|  male|       0|  468|\n",
            "|female|       1|  233|\n",
            "|female|       0|   81|\n",
            "|  male|       1|  109|\n",
            "+------+--------+-----+\n",
            "\n"
          ]
        }
      ]
    },
    {
      "cell_type": "code",
      "source": [
        "df_spark.agg({'Sex':'count'}).show()                                                                     # Using agg function"
      ],
      "metadata": {
        "colab": {
          "base_uri": "https://localhost:8080/"
        },
        "id": "6xHpSlqazSuM",
        "outputId": "fe71f29f-f32e-44fa-c65a-51f8578a6a34"
      },
      "execution_count": 157,
      "outputs": [
        {
          "output_type": "stream",
          "name": "stdout",
          "text": [
            "+----------+\n",
            "|count(Sex)|\n",
            "+----------+\n",
            "|       891|\n",
            "+----------+\n",
            "\n"
          ]
        }
      ]
    },
    {
      "cell_type": "code",
      "source": [
        "from pyspark.ml.feature import VectorAssembler, StringIndexer"
      ],
      "metadata": {
        "id": "dc8weCTW0PqT"
      },
      "execution_count": 158,
      "outputs": []
    },
    {
      "cell_type": "code",
      "source": [
        "indexer = StringIndexer(inputCol='Sex', outputCol='Sex_cat')\n",
        "indexed = indexer.fit(df_spark).transform(df_spark)\n",
        "indexed.show()                                                                                          # Converting categorical variable "
      ],
      "metadata": {
        "colab": {
          "base_uri": "https://localhost:8080/"
        },
        "id": "OZK7nw294vM_",
        "outputId": "ba4e3761-6978-4d59-b420-672967260034"
      },
      "execution_count": 159,
      "outputs": [
        {
          "output_type": "stream",
          "name": "stdout",
          "text": [
            "+-----------+--------+------+--------------------+------+----+-----+-----+----------------+-------+-----+--------+-------+\n",
            "|PassengerId|Survived|Pclass|                Name|   Sex| Age|SibSp|Parch|          Ticket|   Fare|Cabin|Embarked|Sex_cat|\n",
            "+-----------+--------+------+--------------------+------+----+-----+-----+----------------+-------+-----+--------+-------+\n",
            "|          1|       0|     3|Braund, Mr. Owen ...|  male|22.0|    1|    0|       A/5 21171|   7.25| null|       S|    0.0|\n",
            "|          2|       1|     1|Cumings, Mrs. Joh...|female|38.0|    1|    0|        PC 17599|71.2833|  C85|       C|    1.0|\n",
            "|          3|       1|     3|Heikkinen, Miss. ...|female|26.0|    0|    0|STON/O2. 3101282|  7.925| null|       S|    1.0|\n",
            "|          4|       1|     1|Futrelle, Mrs. Ja...|female|35.0|    1|    0|          113803|   53.1| C123|       S|    1.0|\n",
            "|          5|       0|     3|Allen, Mr. Willia...|  male|35.0|    0|    0|          373450|   8.05| null|       S|    0.0|\n",
            "|          6|       0|     3|    Moran, Mr. James|  male|null|    0|    0|          330877| 8.4583| null|       Q|    0.0|\n",
            "|          7|       0|     1|McCarthy, Mr. Tim...|  male|54.0|    0|    0|           17463|51.8625|  E46|       S|    0.0|\n",
            "|          8|       0|     3|Palsson, Master. ...|  male| 2.0|    3|    1|          349909| 21.075| null|       S|    0.0|\n",
            "|          9|       1|     3|Johnson, Mrs. Osc...|female|27.0|    0|    2|          347742|11.1333| null|       S|    1.0|\n",
            "|         10|       1|     2|Nasser, Mrs. Nich...|female|14.0|    1|    0|          237736|30.0708| null|       C|    1.0|\n",
            "|         11|       1|     3|Sandstrom, Miss. ...|female| 4.0|    1|    1|         PP 9549|   16.7|   G6|       S|    1.0|\n",
            "|         12|       1|     1|Bonnell, Miss. El...|female|58.0|    0|    0|          113783|  26.55| C103|       S|    1.0|\n",
            "|         13|       0|     3|Saundercock, Mr. ...|  male|20.0|    0|    0|       A/5. 2151|   8.05| null|       S|    0.0|\n",
            "|         14|       0|     3|Andersson, Mr. An...|  male|39.0|    1|    5|          347082| 31.275| null|       S|    0.0|\n",
            "|         15|       0|     3|Vestrom, Miss. Hu...|female|14.0|    0|    0|          350406| 7.8542| null|       S|    1.0|\n",
            "|         16|       1|     2|Hewlett, Mrs. (Ma...|female|55.0|    0|    0|          248706|   16.0| null|       S|    1.0|\n",
            "|         17|       0|     3|Rice, Master. Eugene|  male| 2.0|    4|    1|          382652| 29.125| null|       Q|    0.0|\n",
            "|         18|       1|     2|Williams, Mr. Cha...|  male|null|    0|    0|          244373|   13.0| null|       S|    0.0|\n",
            "|         19|       0|     3|Vander Planke, Mr...|female|31.0|    1|    0|          345763|   18.0| null|       S|    1.0|\n",
            "|         20|       1|     3|Masselmani, Mrs. ...|female|null|    0|    0|            2649|  7.225| null|       C|    1.0|\n",
            "+-----------+--------+------+--------------------+------+----+-----+-----+----------------+-------+-----+--------+-------+\n",
            "only showing top 20 rows\n",
            "\n"
          ]
        }
      ]
    },
    {
      "cell_type": "code",
      "source": [
        "df_spark = df_spark.join(indexed, df_spark.PassengerId == indexed.PassengerId).select(df_spark[\"*\"],indexed[\"Sex_cat\"])       # Joining the dataframe "
      ],
      "metadata": {
        "id": "VKM88VLx5_zP"
      },
      "execution_count": 161,
      "outputs": []
    },
    {
      "cell_type": "code",
      "source": [
        "fd = imputer.fit(df_spark).transform(df_spark)                                                                                # Assining new dataframe"
      ],
      "metadata": {
        "id": "B1Dq5iPgE1Xc"
      },
      "execution_count": 168,
      "outputs": []
    },
    {
      "cell_type": "code",
      "source": [
        "df_spark = df_spark.join(fd, df_spark.PassengerId == fd.PassengerId).select(df_spark[\"*\"],fd[\"Age_imputed\"])                  # Joining the dataframe"
      ],
      "metadata": {
        "id": "xx79QCL5Fmvm"
      },
      "execution_count": 170,
      "outputs": []
    },
    {
      "cell_type": "code",
      "source": [
        "df_spark.show(10)"
      ],
      "metadata": {
        "colab": {
          "base_uri": "https://localhost:8080/"
        },
        "id": "LV_1V4S0GM4K",
        "outputId": "037dfa2f-254a-4b5f-834f-211ea4a67125"
      },
      "execution_count": 171,
      "outputs": [
        {
          "output_type": "stream",
          "name": "stdout",
          "text": [
            "+-----------+--------+------+--------------------+------+----+-----+-----+-----------+-------+-----+--------+-------+-----------+\n",
            "|PassengerId|Survived|Pclass|                Name|   Sex| Age|SibSp|Parch|     Ticket|   Fare|Cabin|Embarked|Sex_cat|Age_imputed|\n",
            "+-----------+--------+------+--------------------+------+----+-----+-----+-----------+-------+-----+--------+-------+-----------+\n",
            "|        148|       0|     3|\"Ford, Miss. Robi...|female| 9.0|    2|    2| W./C. 6608| 34.375| null|       S|    1.0|        9.0|\n",
            "|        463|       0|     1|   Gee, Mr. Arthur H|  male|47.0|    0|    0|     111320|   38.5|  E63|       S|    0.0|       47.0|\n",
            "|        471|       0|     3|   Keefe, Mr. Arthur|  male|null|    0|    0|     323592|   7.25| null|       S|    0.0|       28.0|\n",
            "|        496|       0|     3|Yousseff, Mr. Ger...|  male|null|    0|    0|       2627|14.4583| null|       C|    0.0|       28.0|\n",
            "|        833|       0|     3|      Saad, Mr. Amin|  male|null|    0|    0|       2671| 7.2292| null|       C|    0.0|       28.0|\n",
            "|        243|       0|     2|Coleridge, Mr. Re...|  male|29.0|    0|    0|W./C. 14263|   10.5| null|       S|    0.0|       29.0|\n",
            "|        392|       1|     3|Jansson, Mr. Carl...|  male|21.0|    0|    0|     350034| 7.7958| null|       S|    0.0|       21.0|\n",
            "|        540|       1|     1|Frolicher, Miss. ...|female|22.0|    0|    2|      13568|   49.5|  B39|       C|    1.0|       22.0|\n",
            "|        623|       1|     3|    Nakid, Mr. Sahid|  male|20.0|    1|    1|       2653|15.7417| null|       C|    0.0|       20.0|\n",
            "|        737|       0|     3|Ford, Mrs. Edward...|female|48.0|    1|    3| W./C. 6608| 34.375| null|       S|    1.0|       48.0|\n",
            "+-----------+--------+------+--------------------+------+----+-----+-----+-----------+-------+-----+--------+-------+-----------+\n",
            "only showing top 10 rows\n",
            "\n"
          ]
        }
      ]
    },
    {
      "cell_type": "code",
      "source": [
        "featureassembler=VectorAssembler(inputCols=[\"Age_imputed\",\"Sex_cat\"],outputCol=\"Independent Features\")                            # Select the independent features"
      ],
      "metadata": {
        "id": "EpQeHL3Z3iYP"
      },
      "execution_count": 172,
      "outputs": []
    },
    {
      "cell_type": "code",
      "source": [
        "output=featureassembler.transform(df_spark)                                                                                       # Performing transform"
      ],
      "metadata": {
        "id": "Eao2kEDGGhdy"
      },
      "execution_count": 173,
      "outputs": []
    },
    {
      "cell_type": "code",
      "source": [
        "output.show()                                         "
      ],
      "metadata": {
        "colab": {
          "base_uri": "https://localhost:8080/"
        },
        "id": "hs8Ce2HiGubS",
        "outputId": "cdc6cc8f-07f7-4a39-9ab6-db642434bdf3"
      },
      "execution_count": 174,
      "outputs": [
        {
          "output_type": "stream",
          "name": "stdout",
          "text": [
            "+-----------+--------+------+--------------------+------+----+-----+-----+-----------------+-------+-----+--------+-------+-----------+--------------------+\n",
            "|PassengerId|Survived|Pclass|                Name|   Sex| Age|SibSp|Parch|           Ticket|   Fare|Cabin|Embarked|Sex_cat|Age_imputed|Independent Features|\n",
            "+-----------+--------+------+--------------------+------+----+-----+-----+-----------------+-------+-----+--------+-------+-----------+--------------------+\n",
            "|        148|       0|     3|\"Ford, Miss. Robi...|female| 9.0|    2|    2|       W./C. 6608| 34.375| null|       S|    1.0|        9.0|           [9.0,1.0]|\n",
            "|        463|       0|     1|   Gee, Mr. Arthur H|  male|47.0|    0|    0|           111320|   38.5|  E63|       S|    0.0|       47.0|          [47.0,0.0]|\n",
            "|        471|       0|     3|   Keefe, Mr. Arthur|  male|null|    0|    0|           323592|   7.25| null|       S|    0.0|       28.0|          [28.0,0.0]|\n",
            "|        496|       0|     3|Yousseff, Mr. Ger...|  male|null|    0|    0|             2627|14.4583| null|       C|    0.0|       28.0|          [28.0,0.0]|\n",
            "|        833|       0|     3|      Saad, Mr. Amin|  male|null|    0|    0|             2671| 7.2292| null|       C|    0.0|       28.0|          [28.0,0.0]|\n",
            "|        243|       0|     2|Coleridge, Mr. Re...|  male|29.0|    0|    0|      W./C. 14263|   10.5| null|       S|    0.0|       29.0|          [29.0,0.0]|\n",
            "|        392|       1|     3|Jansson, Mr. Carl...|  male|21.0|    0|    0|           350034| 7.7958| null|       S|    0.0|       21.0|          [21.0,0.0]|\n",
            "|        540|       1|     1|Frolicher, Miss. ...|female|22.0|    0|    2|            13568|   49.5|  B39|       C|    1.0|       22.0|          [22.0,1.0]|\n",
            "|        623|       1|     3|    Nakid, Mr. Sahid|  male|20.0|    1|    1|             2653|15.7417| null|       C|    0.0|       20.0|          [20.0,0.0]|\n",
            "|        737|       0|     3|Ford, Mrs. Edward...|female|48.0|    1|    3|       W./C. 6608| 34.375| null|       S|    1.0|       48.0|          [48.0,1.0]|\n",
            "|        858|       1|     1|Daly, Mr. Peter D...|  male|51.0|    0|    0|           113055|  26.55|  E17|       S|    0.0|       51.0|          [51.0,0.0]|\n",
            "|         31|       0|     1|Uruchurtu, Don. M...|  male|40.0|    0|    0|         PC 17601|27.7208| null|       C|    0.0|       40.0|          [40.0,0.0]|\n",
            "|        516|       0|     1|Walker, Mr. Willi...|  male|47.0|    0|    0|            36967|34.0208|  D46|       S|    0.0|       47.0|          [47.0,0.0]|\n",
            "|         85|       1|     2| Ilett, Miss. Bertha|female|17.0|    0|    0|       SO/C 14885|   10.5| null|       S|    1.0|       17.0|          [17.0,1.0]|\n",
            "|        137|       1|     1|Newsom, Miss. Hel...|female|19.0|    0|    2|            11752|26.2833|  D47|       S|    1.0|       19.0|          [19.0,1.0]|\n",
            "|        251|       0|     3|Reed, Mr. James G...|  male|null|    0|    0|           362316|   7.25| null|       S|    0.0|       28.0|          [28.0,0.0]|\n",
            "|        451|       0|     2|West, Mr. Edwy Ar...|  male|36.0|    1|    2|       C.A. 34651|  27.75| null|       S|    0.0|       36.0|          [36.0,0.0]|\n",
            "|        580|       1|     3| Jussila, Mr. Eiriik|  male|32.0|    0|    0|STON/O 2. 3101286|  7.925| null|       S|    0.0|       32.0|          [32.0,0.0]|\n",
            "|        808|       0|     3|Pettersson, Miss....|female|18.0|    0|    0|           347087|  7.775| null|       S|    1.0|       18.0|          [18.0,1.0]|\n",
            "|         65|       0|     1|Stewart, Mr. Albe...|  male|null|    0|    0|         PC 17605|27.7208| null|       C|    0.0|       28.0|          [28.0,0.0]|\n",
            "+-----------+--------+------+--------------------+------+----+-----+-----+-----------------+-------+-----+--------+-------+-----------+--------------------+\n",
            "only showing top 20 rows\n",
            "\n"
          ]
        }
      ]
    },
    {
      "cell_type": "code",
      "source": [
        "finalized_data=output.select(\"Independent Features\",\"Survived\")"
      ],
      "metadata": {
        "id": "0POBbGGVGxIR"
      },
      "execution_count": 175,
      "outputs": []
    },
    {
      "cell_type": "code",
      "source": [
        "finalized_data.show()"
      ],
      "metadata": {
        "colab": {
          "base_uri": "https://localhost:8080/"
        },
        "id": "PTEzxz8uG655",
        "outputId": "4500ec0f-23a0-4d0b-ce09-c09ae3f88c98"
      },
      "execution_count": 176,
      "outputs": [
        {
          "output_type": "stream",
          "name": "stdout",
          "text": [
            "+--------------------+--------+\n",
            "|Independent Features|Survived|\n",
            "+--------------------+--------+\n",
            "|           [9.0,1.0]|       0|\n",
            "|          [47.0,0.0]|       0|\n",
            "|          [28.0,0.0]|       0|\n",
            "|          [28.0,0.0]|       0|\n",
            "|          [28.0,0.0]|       0|\n",
            "|          [29.0,0.0]|       0|\n",
            "|          [21.0,0.0]|       1|\n",
            "|          [22.0,1.0]|       1|\n",
            "|          [20.0,0.0]|       1|\n",
            "|          [48.0,1.0]|       0|\n",
            "|          [51.0,0.0]|       1|\n",
            "|          [40.0,0.0]|       0|\n",
            "|          [47.0,0.0]|       0|\n",
            "|          [17.0,1.0]|       1|\n",
            "|          [19.0,1.0]|       1|\n",
            "|          [28.0,0.0]|       0|\n",
            "|          [36.0,0.0]|       0|\n",
            "|          [32.0,0.0]|       1|\n",
            "|          [18.0,1.0]|       0|\n",
            "|          [28.0,0.0]|       0|\n",
            "+--------------------+--------+\n",
            "only showing top 20 rows\n",
            "\n"
          ]
        }
      ]
    },
    {
      "cell_type": "code",
      "source": [
        "from pyspark.ml.classification import LogisticRegression\n",
        "train_data,test_data=finalized_data.randomSplit([0.75,0.25])                                                            # train test split\n",
        "regressor=LogisticRegression(featuresCol='Independent Features', labelCol='Survived')\n",
        "regressor=regressor.fit(train_data)"
      ],
      "metadata": {
        "id": "bTaZUBSZG_AT"
      },
      "execution_count": 184,
      "outputs": []
    },
    {
      "cell_type": "code",
      "source": [
        "regressor.coefficients"
      ],
      "metadata": {
        "colab": {
          "base_uri": "https://localhost:8080/"
        },
        "id": "2eV-EIwrIJ1w",
        "outputId": "51c7c3be-4817-4136-bd22-83c3bbbbf585"
      },
      "execution_count": 185,
      "outputs": [
        {
          "output_type": "execute_result",
          "data": {
            "text/plain": [
              "DenseVector([-0.0046, 2.4781])"
            ]
          },
          "metadata": {},
          "execution_count": 185
        }
      ]
    },
    {
      "cell_type": "code",
      "source": [
        "regressor.intercept"
      ],
      "metadata": {
        "colab": {
          "base_uri": "https://localhost:8080/"
        },
        "id": "FZV-SEHpIWdp",
        "outputId": "00b338c7-9cf2-4480-a50d-ba30192790f4"
      },
      "execution_count": 186,
      "outputs": [
        {
          "output_type": "execute_result",
          "data": {
            "text/plain": [
              "-1.2734740748966495"
            ]
          },
          "metadata": {},
          "execution_count": 186
        }
      ]
    },
    {
      "cell_type": "code",
      "source": [
        "pred_results=regressor.evaluate(test_data)"
      ],
      "metadata": {
        "id": "g4kYfmCSIZGg"
      },
      "execution_count": 187,
      "outputs": []
    },
    {
      "cell_type": "code",
      "source": [
        "pred_results.predictions.show()"
      ],
      "metadata": {
        "colab": {
          "base_uri": "https://localhost:8080/"
        },
        "id": "8i-rQKUEIblf",
        "outputId": "aaa42495-00ae-4d7d-b204-9c327456cd7a"
      },
      "execution_count": 188,
      "outputs": [
        {
          "output_type": "stream",
          "name": "stderr",
          "text": [
            "/usr/local/lib/python3.7/dist-packages/pyspark/sql/context.py:127: FutureWarning: Deprecated in 3.0.0. Use SparkSession.builder.getOrCreate() instead.\n",
            "  FutureWarning\n"
          ]
        },
        {
          "output_type": "stream",
          "name": "stdout",
          "text": [
            "+--------------------+--------+--------------------+--------------------+----------+\n",
            "|Independent Features|Survived|       rawPrediction|         probability|prediction|\n",
            "+--------------------+--------+--------------------+--------------------+----------+\n",
            "|          [0.42,0.0]|       1|[1.27539233855341...|[0.78166442981943...|       0.0|\n",
            "|          [0.75,1.0]|       1|[-1.2012487899095...|[0.23125313821713...|       1.0|\n",
            "|           [1.0,0.0]|       0|[1.27804136931750...|[0.78211618971013...|       0.0|\n",
            "|           [1.0,0.0]|       1|[1.27804136931750...|[0.78211618971013...|       0.0|\n",
            "|           [2.0,1.0]|       0|[-1.1955396718835...|[0.23226963424031...|       1.0|\n",
            "|           [2.0,1.0]|       1|[-1.1955396718835...|[0.23226963424031...|       1.0|\n",
            "|           [3.0,0.0]|       1|[1.28717595815922...|[0.78366880724026...|       0.0|\n",
            "|           [4.0,0.0]|       0|[1.29174325258008...|[0.78444210660352...|       0.0|\n",
            "|           [4.0,0.0]|       0|[1.29174325258008...|[0.78444210660352...|       0.0|\n",
            "|           [4.0,0.0]|       0|[1.29174325258008...|[0.78444210660352...|       0.0|\n",
            "|           [5.0,1.0]|       1|[-1.1818377886209...|[0.23472191786278...|       1.0|\n",
            "|           [6.0,0.0]|       1|[1.30087784142180...|[0.78598268524576...|       0.0|\n",
            "|           [6.0,1.0]|       0|[-1.1772704942000...|[0.23554332350986...|       1.0|\n",
            "|           [7.0,1.0]|       1|[-1.1727031997792...|[0.23636671582518...|       1.0|\n",
            "|           [9.0,0.0]|       1|[1.31457972468438...|[0.78827850044472...|       0.0|\n",
            "|          [11.0,0.0]|       0|[1.32371431352610...|[0.78979900774021...|       0.0|\n",
            "|          [11.0,0.0]|       1|[1.32371431352610...|[0.78979900774021...|       0.0|\n",
            "|          [14.0,0.0]|       0|[1.33741619678868...|[0.79206471482484...|       0.0|\n",
            "|          [15.0,0.0]|       0|[1.34198349120954...|[0.79281593661074...|       0.0|\n",
            "|          [16.0,0.0]|       0|[1.34655078563040...|[0.79356515175091...|       0.0|\n",
            "+--------------------+--------+--------------------+--------------------+----------+\n",
            "only showing top 20 rows\n",
            "\n"
          ]
        }
      ]
    },
    {
      "cell_type": "code",
      "source": [
        ""
      ],
      "metadata": {
        "id": "CKI-gQKYIdu3"
      },
      "execution_count": null,
      "outputs": []
    }
  ]
}